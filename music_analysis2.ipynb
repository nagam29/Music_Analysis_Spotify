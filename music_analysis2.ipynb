{
 "cells": [
  {
   "cell_type": "code",
   "execution_count": 1,
   "metadata": {},
   "outputs": [
    {
     "name": "stdout",
     "output_type": "stream",
     "text": [
      "Requirement already satisfied: requests in c:\\users\\mikan\\anaconda3\\envs\\pythondata\\lib\\site-packages (2.24.0)\n",
      "Requirement already satisfied: chardet<4,>=3.0.2 in c:\\users\\mikan\\anaconda3\\envs\\pythondata\\lib\\site-packages (from requests) (3.0.4)\n",
      "Requirement already satisfied: idna<3,>=2.5 in c:\\users\\mikan\\anaconda3\\envs\\pythondata\\lib\\site-packages (from requests) (2.10)\n",
      "Requirement already satisfied: urllib3!=1.25.0,!=1.25.1,<1.26,>=1.21.1 in c:\\users\\mikan\\anaconda3\\envs\\pythondata\\lib\\site-packages (from requests) (1.25.9)\n",
      "Requirement already satisfied: certifi>=2017.4.17 in c:\\users\\mikan\\anaconda3\\envs\\pythondata\\lib\\site-packages (from requests) (2019.11.28)\n"
     ]
    }
   ],
   "source": [
    "!pip install requests"
   ]
  },
  {
   "cell_type": "code",
   "execution_count": 2,
   "metadata": {},
   "outputs": [],
   "source": [
    "url = 'https://accounts.spotify.com/api/token'\n",
    "headers = {}\n",
    "data = {}"
   ]
  },
  {
   "cell_type": "code",
   "execution_count": 8,
   "metadata": {},
   "outputs": [],
   "source": [
    "import base64\n",
    "from secrets import *"
   ]
  },
  {
   "cell_type": "code",
   "execution_count": 9,
   "metadata": {},
   "outputs": [],
   "source": [
    "message = f\"{clientID}:{clientSecret}\""
   ]
  },
  {
   "cell_type": "code",
   "execution_count": 10,
   "metadata": {},
   "outputs": [],
   "source": [
    "messageBytes = message.encode('ascii')"
   ]
  },
  {
   "cell_type": "code",
   "execution_count": 11,
   "metadata": {},
   "outputs": [],
   "source": [
    "base64Bytes = base64.b64encode(messageBytes)"
   ]
  },
  {
   "cell_type": "code",
   "execution_count": 12,
   "metadata": {},
   "outputs": [],
   "source": [
    "base64Message = base64Bytes.decode('ascii')"
   ]
  },
  {
   "cell_type": "code",
   "execution_count": 19,
   "metadata": {},
   "outputs": [],
   "source": [
    "token_data={\n",
    "    'grant_type': 'client_credentials'\n",
    "}\n",
    "token_headers = {\n",
    "    'Authorization': f'Basic {base64Message}' #Basic <base64 encoded client_id:client_secret>\n",
    "}\n",
    "#token_headers"
   ]
  },
  {
   "cell_type": "code",
   "execution_count": 14,
   "metadata": {},
   "outputs": [],
   "source": [
    "import requests\n",
    "import json"
   ]
  },
  {
   "cell_type": "code",
   "execution_count": 20,
   "metadata": {},
   "outputs": [],
   "source": [
    "r = requests.post(url, data=token_data, headers=token_headers)"
   ]
  },
  {
   "cell_type": "code",
   "execution_count": 21,
   "metadata": {},
   "outputs": [],
   "source": [
    "token = r.json()['access_token']"
   ]
  },
  {
   "cell_type": "code",
   "execution_count": 22,
   "metadata": {},
   "outputs": [
    {
     "name": "stdout",
     "output_type": "stream",
     "text": [
      "{'album': {'album_type': 'album', 'artists': [{'external_urls': {'spotify': 'https://open.spotify.com/artist/0ZrXEI16hfVzp2Nzlordve'}, 'href': 'https://api.spotify.com/v1/artists/0ZrXEI16hfVzp2Nzlordve', 'id': '0ZrXEI16hfVzp2Nzlordve', 'name': 'Leslie Cours Mather', 'type': 'artist', 'uri': 'spotify:artist:0ZrXEI16hfVzp2Nzlordve'}], 'available_markets': ['AD', 'AE', 'AL', 'AR', 'AT', 'AU', 'BA', 'BE', 'BG', 'BH', 'BO', 'BR', 'CA', 'CH', 'CL', 'CO', 'CR', 'CY', 'CZ', 'DE', 'DK', 'DO', 'DZ', 'EC', 'EE', 'EG', 'ES', 'FI', 'FR', 'GB', 'GR', 'GT', 'HK', 'HN', 'HR', 'HU', 'ID', 'IE', 'IL', 'IN', 'IS', 'IT', 'JO', 'JP', 'KW', 'KZ', 'LB', 'LI', 'LT', 'LU', 'LV', 'MA', 'MC', 'MD', 'ME', 'MK', 'MT', 'MX', 'MY', 'NI', 'NL', 'NO', 'NZ', 'OM', 'PA', 'PE', 'PH', 'PL', 'PS', 'PT', 'PY', 'QA', 'RO', 'RU', 'SA', 'SE', 'SG', 'SI', 'SK', 'SV', 'TH', 'TN', 'TR', 'TW', 'UA', 'US', 'UY', 'VN', 'ZA'], 'external_urls': {'spotify': 'https://open.spotify.com/album/3hARUYHvVvQ2qsfn7EZoxf'}, 'href': 'https://api.spotify.com/v1/albums/3hARUYHvVvQ2qsfn7EZoxf', 'id': '3hARUYHvVvQ2qsfn7EZoxf', 'images': [{'height': 640, 'url': 'https://i.scdn.co/image/ab67616d0000b2735e0771d2530247dc56e8bdb4', 'width': 640}, {'height': 300, 'url': 'https://i.scdn.co/image/ab67616d00001e025e0771d2530247dc56e8bdb4', 'width': 300}, {'height': 64, 'url': 'https://i.scdn.co/image/ab67616d000048515e0771d2530247dc56e8bdb4', 'width': 64}], 'name': 'Countrified', 'release_date': '2020-05-01', 'release_date_precision': 'day', 'total_tracks': 10, 'type': 'album', 'uri': 'spotify:album:3hARUYHvVvQ2qsfn7EZoxf'}, 'artists': [{'external_urls': {'spotify': 'https://open.spotify.com/artist/0ZrXEI16hfVzp2Nzlordve'}, 'href': 'https://api.spotify.com/v1/artists/0ZrXEI16hfVzp2Nzlordve', 'id': '0ZrXEI16hfVzp2Nzlordve', 'name': 'Leslie Cours Mather', 'type': 'artist', 'uri': 'spotify:artist:0ZrXEI16hfVzp2Nzlordve'}], 'available_markets': ['AD', 'AE', 'AL', 'AR', 'AT', 'AU', 'BA', 'BE', 'BG', 'BH', 'BO', 'BR', 'CA', 'CH', 'CL', 'CO', 'CR', 'CY', 'CZ', 'DE', 'DK', 'DO', 'DZ', 'EC', 'EE', 'EG', 'ES', 'FI', 'FR', 'GB', 'GR', 'GT', 'HK', 'HN', 'HR', 'HU', 'ID', 'IE', 'IL', 'IN', 'IS', 'IT', 'JO', 'JP', 'KW', 'KZ', 'LB', 'LI', 'LT', 'LU', 'LV', 'MA', 'MC', 'MD', 'ME', 'MK', 'MT', 'MX', 'MY', 'NI', 'NL', 'NO', 'NZ', 'OM', 'PA', 'PE', 'PH', 'PL', 'PS', 'PT', 'PY', 'QA', 'RO', 'RU', 'SA', 'SE', 'SG', 'SI', 'SK', 'SV', 'TH', 'TN', 'TR', 'TW', 'UA', 'US', 'UY', 'VN', 'ZA'], 'disc_number': 1, 'duration_ms': 195437, 'explicit': False, 'external_ids': {'isrc': 'QMEU31501867'}, 'external_urls': {'spotify': 'https://open.spotify.com/track/27QKc21fIJMWTdjnNwGRH8'}, 'href': 'https://api.spotify.com/v1/tracks/27QKc21fIJMWTdjnNwGRH8', 'id': '27QKc21fIJMWTdjnNwGRH8', 'is_local': False, 'name': 'Countrified', 'popularity': 0, 'preview_url': 'https://p.scdn.co/mp3-preview/aad6319adc4f749bd9b039dc5e0462d6504c3b49?cid=c4efeadb3af5460a9eb454f77f11f704', 'track_number': 1, 'type': 'track', 'uri': 'spotify:track:27QKc21fIJMWTdjnNwGRH8'}\n"
     ]
    }
   ],
   "source": [
    "# This time, I am getting track information\n",
    "\n",
    "#playlistId = \"1y9Ev5oWcBXWnwLNVyMEuf\"\n",
    "#playlistUrl = f\"https://api.spotify.com/v1/playlists/{playlistId}\"\n",
    "trackId = \"27QKc21fIJMWTdjnNwGRH8?si=XH9wa3D6R0qJC-I-Z5nG9w\"\n",
    "trackUrl = f\"https://api.spotify.com/v1/tracks/{trackId}\"\n",
    "headers = {\n",
    "    \"Authorization\": \"Bearer \" + token\n",
    "}\n",
    "#res = requests.get(url=playlistUrl, headers=headers)\n",
    "res = requests.get(url=trackUrl, headers=headers)\n",
    "\n",
    "# create a dictionary, so I can extract data from it\n",
    "# reference : https://realpython.com/python-requests/#the-response\n",
    "# According to this document, the response of a GET request can be converted to text or json\n",
    "    #response = requests.get('https://api.github.com')\n",
    "    #response.text\n",
    "    #or \n",
    "    #response = requests.get('https://api.github.com')\n",
    "    #response.json\n",
    "    # To get a dictionary, using .json() is the simplest method\n",
    "\n",
    "res_dict = res.json()\n",
    "print(res_dict)"
   ]
  },
  {
   "cell_type": "code",
   "execution_count": 23,
   "metadata": {},
   "outputs": [
    {
     "name": "stdout",
     "output_type": "stream",
     "text": [
      "Leslie Cours Mather\n"
     ]
    }
   ],
   "source": [
    "# reference : https://devqa.io/python-parse-json/\n",
    "print(res_dict['album'][\"artists\"][0][\"name\"])"
   ]
  },
  {
   "cell_type": "code",
   "execution_count": 24,
   "metadata": {},
   "outputs": [
    {
     "name": "stdout",
     "output_type": "stream",
     "text": [
      "Countrified\n"
     ]
    }
   ],
   "source": [
    "print(res_dict['album']['name'])"
   ]
  },
  {
   "cell_type": "code",
   "execution_count": 25,
   "metadata": {},
   "outputs": [
    {
     "name": "stdout",
     "output_type": "stream",
     "text": [
      "Countrified 0\n"
     ]
    }
   ],
   "source": [
    "print(res_dict[\"name\"],res_dict['popularity'])"
   ]
  },
  {
   "cell_type": "code",
   "execution_count": null,
   "metadata": {},
   "outputs": [],
   "source": []
  }
 ],
 "metadata": {
  "kernelspec": {
   "display_name": "Python 3",
   "language": "python",
   "name": "python3"
  },
  "language_info": {
   "codemirror_mode": {
    "name": "ipython",
    "version": 3
   },
   "file_extension": ".py",
   "mimetype": "text/x-python",
   "name": "python",
   "nbconvert_exporter": "python",
   "pygments_lexer": "ipython3",
   "version": "3.7.6"
  }
 },
 "nbformat": 4,
 "nbformat_minor": 4
}
