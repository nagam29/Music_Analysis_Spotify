{
 "cells": [
  {
   "cell_type": "code",
   "execution_count": 1,
   "metadata": {},
   "outputs": [
    {
     "name": "stdout",
     "output_type": "stream",
     "text": [
      "Collecting lyricsgenius\n",
      "  Downloading lyricsgenius-2.0.0-py3-none-any.whl (19 kB)\n",
      "Collecting beautifulsoup4==4.6.0\n",
      "  Downloading beautifulsoup4-4.6.0-py3-none-any.whl (86 kB)\n",
      "Requirement already satisfied: requests>=2.20.0 in c:\\users\\mikan\\anaconda3\\envs\\pythondata\\lib\\site-packages (from lyricsgenius) (2.24.0)\n",
      "Requirement already satisfied: chardet<4,>=3.0.2 in c:\\users\\mikan\\anaconda3\\envs\\pythondata\\lib\\site-packages (from requests>=2.20.0->lyricsgenius) (3.0.4)\n",
      "Requirement already satisfied: urllib3!=1.25.0,!=1.25.1,<1.26,>=1.21.1 in c:\\users\\mikan\\anaconda3\\envs\\pythondata\\lib\\site-packages (from requests>=2.20.0->lyricsgenius) (1.25.9)\n",
      "Requirement already satisfied: idna<3,>=2.5 in c:\\users\\mikan\\anaconda3\\envs\\pythondata\\lib\\site-packages (from requests>=2.20.0->lyricsgenius) (2.10)\n",
      "Requirement already satisfied: certifi>=2017.4.17 in c:\\users\\mikan\\anaconda3\\envs\\pythondata\\lib\\site-packages (from requests>=2.20.0->lyricsgenius) (2019.11.28)\n",
      "Installing collected packages: beautifulsoup4, lyricsgenius\n",
      "  Attempting uninstall: beautifulsoup4\n",
      "    Found existing installation: beautifulsoup4 4.9.0\n",
      "    Uninstalling beautifulsoup4-4.9.0:\n",
      "      Successfully uninstalled beautifulsoup4-4.9.0\n",
      "Successfully installed beautifulsoup4-4.6.0 lyricsgenius-2.0.0\n",
      "Note: you may need to restart the kernel to use updated packages.\n"
     ]
    },
    {
     "name": "stderr",
     "output_type": "stream",
     "text": [
      "WARNING: You are using pip version 20.2.2; however, version 20.2.3 is available.\n",
      "You should consider upgrading via the 'C:\\Users\\mikan\\Anaconda3\\envs\\PythonData\\python.exe -m pip install --upgrade pip' command.\n"
     ]
    }
   ],
   "source": [
    "pip install lyricsgenius"
   ]
  },
  {
   "cell_type": "code",
   "execution_count": 2,
   "metadata": {},
   "outputs": [],
   "source": [
    "import lyricsgenius as lg\n",
    "import json\n",
    "import pandas as pd\n",
    "from config import *"
   ]
  },
  {
   "cell_type": "code",
   "execution_count": null,
   "metadata": {},
   "outputs": [],
   "source": [
    "from config import *"
   ]
  },
  {
   "cell_type": "code",
   "execution_count": 11,
   "metadata": {},
   "outputs": [],
   "source": [
    "genius = lg.Genius('CLIENT_ACCESS_TOKEN')"
   ]
  },
  {
   "cell_type": "code",
   "execution_count": 12,
   "metadata": {},
   "outputs": [
    {
     "name": "stdout",
     "output_type": "stream",
     "text": [
      "Searching for songs by Kendrick Lamar...\n",
      "\n",
      "Song 1: \"HUMBLE.\"\n",
      "Song 2: \"​m.A.A.d city\"\n",
      "Song 3: \"Swimming Pools (Drank)\"\n",
      "\n",
      "Reached user-specified song limit (3).\n",
      "Done. Found 3 songs.\n",
      "[('HUMBLE.', 'Kendrick Lamar'), ('\\u200bm.A.A.d city', 'Kendrick Lamar'), ('Swimming Pools (Drank)', 'Kendrick Lamar')]\n"
     ]
    }
   ],
   "source": [
    "artist = genius.search_artist(\"Kendrick Lamar\", max_songs=3, sort='popularity').songs\n",
    "print(artist)"
   ]
  },
  {
   "cell_type": "code",
   "execution_count": 15,
   "metadata": {},
   "outputs": [
    {
     "name": "stdout",
     "output_type": "stream",
     "text": [
      "Searching for \"HUMBLE.\"...\n",
      "Done.\n",
      "[Intro]\n",
      "Nobody pray for me\n",
      "It's been that day for me\n",
      "Way (Yeah, yeah)\n",
      "\n",
      "[Verse 1]\n",
      "Ayy, I remember syrup sandwiches and crime allowances\n",
      "Finesse a nigga with some counterfeits, but now I’m countin' this\n",
      "Parmesan where my accountant lives, in fact I'm downin’ this\n",
      "D'USSÉ with my boo bae tastes like Kool-Aid for the analysts\n",
      "Girl, I can buy your ass the world with my paystub\n",
      "Ooh, that pussy good, won't you sit it on my taste bloods?\n",
      "I get way too petty once you let me do the extras\n",
      "Pull up on your block, then break it down: we playin' Tetris\n",
      "AM to the PM, PM to the AM, funk\n",
      "Piss out your per diem, you just gotta hate 'em, funk\n",
      "If I quit your BM, I still ride Mercedes, funk\n",
      "If I quit this season, I still be the greatest, funk\n",
      "My left stroke just went viral\n",
      "Right stroke put lil' baby in a spiral\n",
      "Soprano C, we like to keep it on a high note\n",
      "It's levels to it, you and I know\n",
      "\n",
      "[Chorus]\n",
      "Bitch, be humble (Hol' up, bitch)\n",
      "Sit down (Hol’ up, lil’, hol' up, lil’ bitch)\n",
      "Be humble (Hol' up, bitch)\n",
      "Sit down (Hol' up, sit down, lil', sit down, lil’ bitch)\n",
      "Be humble (Hol' up, hol' up)\n",
      "Bitch, sit down (Hol' up, hol' up, lil' bitch)\n",
      "Be humble (Lil' bitch, hol' up, bitch)\n",
      "Sit down (Hol' up, hol' up, hol' up, hol' up)\n",
      "Be humble (Hol' up, hol' up)\n",
      "Sit down (Hol' up, hol' up, lil', hol' up, lil' bitch)\n",
      "Be humble (Hol' up, bitch)\n",
      "Sit down (Hol' up, sit down, lil', sit down, lil' bitch)\n",
      "Be humble (Hol' up, hol' up)\n",
      "Bitch, sit down (Hol' up, hol' up, lil' bitch)\n",
      "Be humble (Lil' bitch, hol' up, bitch)\n",
      "Sit down (Hol' up, hol' up, hol' up, hol' up)\n",
      "\n",
      "[Verse 2]\n",
      "Who that nigga thinkin' that he frontin' on Man-Man? (Man-Man)\n",
      "Get the fuck off my stage, I'm the Sandman (Sandman)\n",
      "Get the fuck off my dick, that ain't right\n",
      "I make a play fucking up your whole life\n",
      "I'm so fuckin' sick and tired of the Photoshop\n",
      "Show me somethin' natural like afro on Richard Pryor\n",
      "Show me somethin' natural like ass with some stretch marks\n",
      "Still will take you down right on your mama's couch in Polo socks\n",
      "Ayy, this shit way too crazy, ayy, you do not amaze me, ayy\n",
      "I blew cool from AC, ayy, Obama just paged me, ayy\n",
      "I don't fabricate it, ayy, most of y'all be fakin', ayy\n",
      "I stay modest 'bout it, ayy, she elaborate it, ayy\n",
      "This that Grey Poupon, that Evian, that TED Talk, ayy\n",
      "Watch my soul speak, you let the meds talk, ayy\n",
      "If I kill a nigga, it won't be the alcohol, ayy\n",
      "I'm the realest nigga after all\n",
      "\n",
      "[Chorus]\n",
      "Bitch, be humble (Hol' up, bitch)\n",
      "Sit down (Hol' up, lil', hol' up, lil' bitch)\n",
      "Be humble (Hol' up, bitch)\n",
      "Sit down (Hol' up, sit down, lil', sit down, lil' bitch)\n",
      "Be humble (Hol' up, hol' up)\n",
      "Bitch, sit down (Hol' up, hol' up, lil' bitch)\n",
      "Be humble (Lil' bitch, hol' up, bitch)\n",
      "Sit down (Hol' up, hol' up, hol' up, hol' up)\n",
      "Be humble (Hol' up, hol' up)\n",
      "Sit down (Hol' up, hol' up, lil', hol' up, lil' bitch)\n",
      "Be humble (Hol' up, bitch)\n",
      "Sit down (Hol' up, sit down, lil', sit down, lil' bitch)\n",
      "Be humble (Hol' up, hol' up)\n",
      "Bitch, sit down (Hol' up, hol' up, lil' bitch)\n",
      "Be humble (Lil' bitch, hol' up, bitch)\n",
      "Sit down (Hol' up, hol' up, hol' up, hol' up)\n"
     ]
    }
   ],
   "source": [
    "song=genius.search_song('HUMBLE.')\n",
    "print(song.lyrics)"
   ]
  },
  {
   "cell_type": "code",
   "execution_count": 17,
   "metadata": {},
   "outputs": [
    {
     "name": "stdout",
     "output_type": "stream",
     "text": [
      "Wrote HUMBLE. to lyrics_kendricklamar_humble..json.\n"
     ]
    }
   ],
   "source": [
    "song_json=song.save_lyrics()"
   ]
  },
  {
   "cell_type": "code",
   "execution_count": 21,
   "metadata": {},
   "outputs": [
    {
     "name": "stdout",
     "output_type": "stream",
     "text": [
      "Searching for \"Countrified\"...\n",
      "Done.\n",
      "I like pretty lights and city nights\n",
      "And pretty city women to hold me tight\n",
      "But that won't change my country side\n",
      "I'm proud to tell you that I'm so countrified\n",
      "\n",
      "I'm in to cavier and long shiny cars\n",
      "Seeing the stars in the big city bars\n",
      "But I take all these things in stride\n",
      "Deep down inside I'm so countrified\n",
      "\n",
      "Well I love my grits, I love my greens\n",
      "Country motel and those sweet southern bells\n",
      "I like fried chicken like a country boy should\n",
      "And every thing that's finger licking good\n",
      "\n",
      "I like to get loud and dance in a crowd\n",
      "Go out to places where jeans are allowed\n",
      "So I can feel my country side\n",
      "I'm proud to tell you I'm so countrified\n",
      "\n",
      "Well I love my grits, I love my greens\n",
      "Country motel and those sweet southern bells\n",
      "I like fried chicken like a country boy should\n",
      "And every thing that's finger licking good\n",
      "\n",
      "I like to get loud and dance in a crowd\n",
      "Go out to places where jeans are allowed\n",
      "So I can feel my country side\n",
      "Deep down inside I'm so countrified\n",
      "\n",
      "I like pretty lights and city nights\n",
      "And pretty city women to hold me tight\n",
      "But that won't change my country side\n",
      "I'm proud to tell you that I'm so countrified\n",
      "\n",
      "I'm in to cavier and long shiny cars\n",
      "Seeing the stars in the big city bars\n",
      "But I take all these things in stride\n",
      "I'm proud to tell you that I'm so countrified\n"
     ]
    }
   ],
   "source": [
    "song2=genius.search_song('Countrified')\n",
    "print(song2.lyrics)"
   ]
  },
  {
   "cell_type": "code",
   "execution_count": null,
   "metadata": {},
   "outputs": [],
   "source": []
  }
 ],
 "metadata": {
  "kernelspec": {
   "display_name": "Python 3",
   "language": "python",
   "name": "python3"
  },
  "language_info": {
   "codemirror_mode": {
    "name": "ipython",
    "version": 3
   },
   "file_extension": ".py",
   "mimetype": "text/x-python",
   "name": "python",
   "nbconvert_exporter": "python",
   "pygments_lexer": "ipython3",
   "version": "3.7.6"
  }
 },
 "nbformat": 4,
 "nbformat_minor": 4
}
